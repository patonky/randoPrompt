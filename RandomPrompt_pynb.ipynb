{
  "nbformat": 4,
  "nbformat_minor": 0,
  "metadata": {
    "colab": {
      "name": "RandomPrompt.pynb",
      "private_outputs": true,
      "provenance": [],
      "collapsed_sections": [],
      "include_colab_link": true
    },
    "kernelspec": {
      "name": "python3",
      "display_name": "Python 3"
    },
    "language_info": {
      "name": "python"
    }
  },
  "cells": [
    {
      "cell_type": "markdown",
      "metadata": {
        "id": "view-in-github",
        "colab_type": "text"
      },
      "source": [
        "<a href=\"https://colab.research.google.com/github/PHoepner/randoPrompt/blob/main/RandomPrompt_pynb.ipynb\" target=\"_parent\"><img src=\"https://colab.research.google.com/assets/colab-badge.svg\" alt=\"Open In Colab\"/></a>"
      ]
    },
    {
      "cell_type": "code",
      "metadata": {
        "id": "h5-WkZTWSV6o",
        "cellView": "form"
      },
      "source": [
        "#@title Prompt Options\n",
        "NumberToGenerate =  100#@param {type:\"integer\"}\n",
        "ArtMovements = False #@param {type:\"boolean\"}\n",
        "Adjectives = False #@param {type:\"boolean\"}\n",
        "Artists = True #@param {type:\"boolean\"}\n",
        "Animals = True #@param {type:\"boolean\"}\n",
        "Nouns = False #@param {type:\"boolean\"}\n",
        "Styles = False #@param {type:\"boolean\"}\n",
        "Moma = True #@param {type:\"boolean\"}\n",
        "import os\n",
        "import sys\n",
        "import subprocess\n",
        "import random\n",
        "\n",
        "if os.path.exists(\"/content/randoPrompt\") == False:\n",
        "  !git clone https://github.com/PHoepner/randoPrompt.git\n",
        "\n",
        "nounsList = open('/content/randoPrompt/txts/nouns.txt', 'r').readlines()\n",
        "adjectivesList = open('/content/randoPrompt/txts/adjectives.txt', 'r').readlines()\n",
        "stylesList = open('/content/randoPrompt/txts/styles.txt', 'r').readlines()\n",
        "animalsList = open('/content/randoPrompt/txts/animals.txt', 'r').readlines()\n",
        "artistsList = open('/content/randoPrompt/txts/artists.txt', 'r').readlines()\n",
        "artMovementList = open('/content/randoPrompt/txts/artMovements.txt', 'r').readlines()\n",
        "momaList = open('/content/randoPrompt/txts/momaArt.txt', 'r').readlines()\n",
        "\n",
        "def getText(listText):\n",
        "  return random.choice(listText).replace('\\n',' ')\n",
        "\n",
        "def randomPrompt():\n",
        "  prompt = ''\n",
        "  if (ArtMovements): \n",
        "    prompt += getText(artMovementList)\n",
        "  if (Styles): \n",
        "    prompt += getText(stylesList)\n",
        "  if (Adjectives): \n",
        "    prompt += getText(adjectivesList)\n",
        "  if (Moma): \n",
        "    prompt += getText(momaList)\n",
        "  if (Animals): \n",
        "    prompt += getText(animalsList)\n",
        "  if (Artists): \n",
        "    prompt += getText(artistsList)\n",
        "  if (Nouns): \n",
        "    prompt += getText(nounsList)\n",
        "  return prompt\n",
        "  if (BodyParts): \n",
        "    prompt += getText(bodyPartList)\n",
        "  return prompt\n",
        "\n",
        "for _ in range(NumberToGenerate):\n",
        "  print(randomPrompt())\n"
      ],
      "execution_count": null,
      "outputs": []
    }
  ]
}